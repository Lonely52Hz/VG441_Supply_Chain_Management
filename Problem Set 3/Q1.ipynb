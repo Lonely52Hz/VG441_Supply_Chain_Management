{
 "cells": [
  {
   "cell_type": "code",
   "execution_count": 1,
   "id": "67889996",
   "metadata": {},
   "outputs": [],
   "source": [
    "import numpy as np\n",
    "from gurobipy import *"
   ]
  },
  {
   "cell_type": "code",
   "execution_count": 2,
   "id": "67968cb1",
   "metadata": {},
   "outputs": [
    {
     "name": "stdout",
     "output_type": "stream",
     "text": [
      "Restricted license - for non-production use only - expires 2022-01-13\n"
     ]
    }
   ],
   "source": [
    "T = 5\n",
    "m = Model()\n",
    "x = m.addVars(T, lb=np.zeros(5), vtype = GRB.BINARY, name = \"if_chosen\")\n",
    "m.setObjective(quicksum(x[t] for t in range(T)), GRB.MINIMIZE)\n",
    "\n",
    "c1 = m.addConstr(x[0] + x[1] >= 1)\n",
    "c2 = m.addConstr(x[0] + x[3] >= 1)\n",
    "c3 = m.addConstr(x[2] >= 1)\n",
    "c4 = m.addConstr(x[4] >= 1)\n",
    "c5 = m.addConstr(x[1] + x[4] >= 1)\n",
    "c6 = m.addConstr(x[1] + x[2] >= 1)\n",
    "c7 = m.addConstr(x[3] >= 1)\n",
    "c8 = m.addConstr(x[0] + x[3] >= 1)"
   ]
  },
  {
   "cell_type": "code",
   "execution_count": 3,
   "id": "bbaaa4b7",
   "metadata": {},
   "outputs": [
    {
     "name": "stdout",
     "output_type": "stream",
     "text": [
      "Gurobi Optimizer version 9.1.2 build v9.1.2rc0 (win64)\n",
      "Thread count: 4 physical cores, 8 logical processors, using up to 8 threads\n",
      "Optimize a model with 8 rows, 5 columns and 13 nonzeros\n",
      "Model fingerprint: 0x74c2bfc5\n",
      "Variable types: 0 continuous, 5 integer (5 binary)\n",
      "Coefficient statistics:\n",
      "  Matrix range     [1e+00, 1e+00]\n",
      "  Objective range  [1e+00, 1e+00]\n",
      "  Bounds range     [1e+00, 1e+00]\n",
      "  RHS range        [1e+00, 1e+00]\n",
      "Found heuristic solution: objective 4.0000000\n",
      "Presolve removed 8 rows and 5 columns\n",
      "Presolve time: 0.00s\n",
      "Presolve: All rows and columns removed\n",
      "\n",
      "Explored 0 nodes (0 simplex iterations) in 0.01 seconds\n",
      "Thread count was 1 (of 8 available processors)\n",
      "\n",
      "Solution count 1: 4 \n",
      "\n",
      "Optimal solution found (tolerance 1.00e-04)\n",
      "Best objective 4.000000000000e+00, best bound 4.000000000000e+00, gap 0.0000%\n",
      "\n",
      "    Variable            X \n",
      "-------------------------\n",
      "if_chosen[1]            1 \n",
      "if_chosen[2]            1 \n",
      "if_chosen[3]            1 \n",
      "if_chosen[4]            1 \n"
     ]
    }
   ],
   "source": [
    "m.optimize()\n",
    "m.printAttr('X')"
   ]
  }
 ],
 "metadata": {
  "kernelspec": {
   "display_name": "Python 3",
   "language": "python",
   "name": "python3"
  },
  "language_info": {
   "codemirror_mode": {
    "name": "ipython",
    "version": 3
   },
   "file_extension": ".py",
   "mimetype": "text/x-python",
   "name": "python",
   "nbconvert_exporter": "python",
   "pygments_lexer": "ipython3",
   "version": "3.8.8"
  }
 },
 "nbformat": 4,
 "nbformat_minor": 5
}

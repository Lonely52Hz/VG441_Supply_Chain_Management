{
 "cells": [
  {
   "cell_type": "code",
   "execution_count": 1,
   "metadata": {},
   "outputs": [],
   "source": [
    "import numpy as np\n",
    "from gurobipy import *"
   ]
  },
  {
   "cell_type": "code",
   "execution_count": 2,
   "metadata": {},
   "outputs": [],
   "source": [
    "d = [220,155,105,90,170,210,290]\n",
    "T, K, h = 7, 1000, 1.2\n",
    "M = 10e5"
   ]
  },
  {
   "cell_type": "code",
   "execution_count": 3,
   "metadata": {},
   "outputs": [
    {
     "name": "stdout",
     "output_type": "stream",
     "text": [
      "Restricted license - for non-production use only - expires 2022-01-13\n"
     ]
    }
   ],
   "source": [
    "WW = Model()\n",
    "\n",
    "q = WW.addVars(T, lb=np.zeros(7), vtype=GRB.CONTINUOUS, name=\"order_quantity\")\n",
    "x = WW.addVars(T, lb=np.zeros(7), vtype=GRB.CONTINUOUS, name=\"inventory_level\")\n",
    "y = WW.addVars(T, vtype=GRB.BINARY, name=\"if_order\")\n",
    "\n",
    "WW.setObjective(quicksum(K*y[t]+h*x[t] for t in range(T)), GRB.MINIMIZE)\n",
    "\n",
    "c1 = WW.addConstrs(q[t] <= M*y[t] for t in range(T))\n",
    "c2 = WW.addConstrs(x[t] == x[t-1]+ q[t] - d[t] for t in range(1,T))\n",
    "c3 = WW.addConstr(x[0] == q[0] - d[0])"
   ]
  },
  {
   "cell_type": "code",
   "execution_count": 4,
   "metadata": {},
   "outputs": [
    {
     "name": "stdout",
     "output_type": "stream",
     "text": [
      "Gurobi Optimizer version 9.1.2 build v9.1.2rc0 (win64)\n",
      "Thread count: 4 physical cores, 8 logical processors, using up to 8 threads\n",
      "Optimize a model with 14 rows, 21 columns and 34 nonzeros\n",
      "Model fingerprint: 0x75f00a53\n",
      "Variable types: 14 continuous, 7 integer (7 binary)\n",
      "Coefficient statistics:\n",
      "  Matrix range     [1e+00, 1e+06]\n",
      "  Objective range  [1e+00, 1e+03]\n",
      "  Bounds range     [1e+00, 1e+00]\n",
      "  RHS range        [9e+01, 3e+02]\n",
      "Presolve removed 3 rows and 4 columns\n",
      "Presolve time: 0.01s\n",
      "Presolved: 11 rows, 17 columns, 27 nonzeros\n",
      "Variable types: 11 continuous, 6 integer (6 binary)\n",
      "\n",
      "Root relaxation: objective 1.949020e+03, 7 iterations, 0.00 seconds\n",
      "\n",
      "    Nodes    |    Current Node    |     Objective Bounds      |     Work\n",
      " Expl Unexpl |  Obj  Depth IntInf | Incumbent    BestBd   Gap | It/Node Time\n",
      "\n",
      "     0     0 1949.02000    0    4          - 1949.02000      -     -    0s\n",
      "H    0     0                    5948.0000000 1949.02000  67.2%     -    0s\n",
      "H    0     0                    3926.0000000 1949.02000  50.4%     -    0s\n",
      "     0     0 3204.90092    0    3 3926.00000 3204.90092  18.4%     -    0s\n",
      "H    0     0                    3710.0000000 3204.90092  13.6%     -    0s\n",
      "\n",
      "Cutting planes:\n",
      "  Implied bound: 7\n",
      "  MIR: 2\n",
      "  Flow cover: 4\n",
      "\n",
      "Explored 1 nodes (15 simplex iterations) in 0.06 seconds\n",
      "Thread count was 8 (of 8 available processors)\n",
      "\n",
      "Solution count 3: 3710 3926 5948 \n",
      "\n",
      "Optimal solution found (tolerance 1.00e-04)\n",
      "Best objective 3.709999999983e+03, best bound 3.709999999983e+03, gap 0.0000%\n",
      "\n",
      "    Variable            X \n",
      "-------------------------\n",
      "order_quantity[0]          570 \n",
      "order_quantity[4]          670 \n",
      "inventory_level[0]          350 \n",
      "inventory_level[1]          195 \n",
      "inventory_level[2]           90 \n",
      "inventory_level[4]          500 \n",
      "inventory_level[5]          290 \n",
      " if_order[0]            1 \n",
      " if_order[4]            1 \n"
     ]
    }
   ],
   "source": [
    "WW.optimize()\n",
    "WW.printAttr('X')"
   ]
  }
 ],
 "metadata": {
  "kernelspec": {
   "display_name": "Python 3",
   "language": "python",
   "name": "python3"
  },
  "language_info": {
   "codemirror_mode": {
    "name": "ipython",
    "version": 3
   },
   "file_extension": ".py",
   "mimetype": "text/x-python",
   "name": "python",
   "nbconvert_exporter": "python",
   "pygments_lexer": "ipython3",
   "version": "3.8.8"
  }
 },
 "nbformat": 4,
 "nbformat_minor": 4
}
